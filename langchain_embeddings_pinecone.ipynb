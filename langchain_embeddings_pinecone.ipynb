{
 "cells": [
  {
   "cell_type": "code",
   "execution_count": 1,
   "id": "ea5f6a12-d13f-4df7-824c-7eb5e247f00f",
   "metadata": {},
   "outputs": [
    {
     "data": {
      "text/plain": [
       "True"
      ]
     },
     "execution_count": 1,
     "metadata": {},
     "output_type": "execute_result"
    }
   ],
   "source": [
    "import os\n",
    "from dotenv import load_dotenv, find_dotenv\n",
    "load_dotenv(find_dotenv(), override=True)"
   ]
  },
  {
   "cell_type": "code",
   "execution_count": 2,
   "id": "cd7a5554-b87b-4fbf-86ae-57380d92f9a0",
   "metadata": {},
   "outputs": [
    {
     "name": "stderr",
     "output_type": "stream",
     "text": [
      "/Users/christoschristodoulou/projects/langchain-gdpr/venv/lib/python3.9/site-packages/urllib3/__init__.py:34: NotOpenSSLWarning: urllib3 v2.0 only supports OpenSSL 1.1.1+, currently the 'ssl' module is compiled with 'LibreSSL 2.8.3'. See: https://github.com/urllib3/urllib3/issues/3020\n",
      "  warnings.warn(\n",
      "/Users/christoschristodoulou/projects/langchain-gdpr/venv/lib/python3.9/site-packages/pinecone/index.py:4: TqdmExperimentalWarning: Using `tqdm.autonotebook.tqdm` in notebook mode. Use `tqdm.tqdm` instead to force console mode (e.g. in jupyter console)\n",
      "  from tqdm.autonotebook import tqdm\n"
     ]
    }
   ],
   "source": [
    "import pinecone\n",
    "\n",
    "# initializing pinecone\n",
    "pinecone.init(\n",
    "    api_key=os.environ.get('PINECONE_API_KEY'),\n",
    "    environment=os.environ.get('PINECONE_ENV')\n",
    ")\n"
   ]
  },
  {
   "cell_type": "code",
   "execution_count": 3,
   "id": "d044f559-5c82-4d84-80d5-2b59b4efccfb",
   "metadata": {},
   "outputs": [
    {
     "data": {
      "text/plain": [
       "VersionResponse(server='2.0.11', client='2.2.2')"
      ]
     },
     "execution_count": 3,
     "metadata": {},
     "output_type": "execute_result"
    }
   ],
   "source": [
    "pinecone.info.version()"
   ]
  },
  {
   "cell_type": "code",
   "execution_count": 13,
   "id": "9fab6c15-eb4b-489c-bd91-7fd049c0494f",
   "metadata": {},
   "outputs": [],
   "source": [
    "from langchain.text_splitter import RecursiveCharacterTextSplitter\n",
    "\n",
    "with open('churchill_speech.txt') as f:\n",
    "    chuchill_speech = f.read()\n",
    "\n",
    "\n",
    "text_splitter = RecursiveCharacterTextSplitter(\n",
    "    chunk_size=100,\n",
    "    chunk_overlap=20,\n",
    "    length_function=len\n",
    ")"
   ]
  },
  {
   "cell_type": "code",
   "execution_count": 14,
   "id": "3677d552-73d3-492b-8b3b-ae9e189601cd",
   "metadata": {},
   "outputs": [
    {
     "name": "stdout",
     "output_type": "stream",
     "text": [
      "Now you have 28 chunks\n"
     ]
    }
   ],
   "source": [
    "chunks = text_splitter.create_documents([chuchill_speech])\n",
    "print(f'Now you have {len(chunks)} chunks')"
   ]
  },
  {
   "cell_type": "code",
   "execution_count": 15,
   "id": "8f5a8063-ddea-47b7-814c-0c5be93a95fe",
   "metadata": {},
   "outputs": [
    {
     "name": "stdout",
     "output_type": "stream",
     "text": [
      "[Document(page_content='HIV, or Human Immunodeficiency Virus, is a virus that attacks the immune system of humans,', metadata={}), Document(page_content='system of humans, particularly the CD4 cells which are vital in defending the body against', metadata={}), Document(page_content='the body against infections. This virus is known for being the precursor to AIDS, or Acquired', metadata={}), Document(page_content='AIDS, or Acquired Immunodeficiency Syndrome, a condition characterized by the failure of the immune', metadata={}), Document(page_content='of the immune system to fend off opportunistic infections and diseases.', metadata={}), Document(page_content='In the early 1980s, the world witnessed the emergence of HIV as a global health crisis. The virus,', metadata={}), Document(page_content='crisis. The virus, which is primarily transmitted through unprotected sexual intercourse, sharing', metadata={}), Document(page_content='sharing of needles, or from an infected mother to her child during childbirth or breastfeeding,', metadata={}), Document(page_content='or breastfeeding, brought about a pandemic that has taken millions of lives. Throughout the years,', metadata={}), Document(page_content='the years, research and medical advancements have worked relentlessly to curb the spread and impact', metadata={}), Document(page_content='spread and impact of this virus.', metadata={}), Document(page_content='Currently, there are two main types of HIV: HIV-1 and HIV-2. HIV-1 is the most widespread type', metadata={}), Document(page_content='widespread type globally, whereas HIV-2 is mainly confined to West Africa. These viruses are', metadata={}), Document(page_content='These viruses are retroviruses, meaning they replicate within a host by converting their RNA', metadata={}), Document(page_content='their RNA genomes into DNA, integrating this DNA into the host cell’s genome, and hijacking the', metadata={}), Document(page_content='and hijacking the cell’s machinery to produce new viral particles.', metadata={}), Document(page_content='A significant development in the fight against HIV has been the introduction of antiretroviral', metadata={}), Document(page_content='of antiretroviral therapy (ART). ART involves a combination of medicines that work to prevent the', metadata={}), Document(page_content=\"work to prevent the virus from replicating in the body, thereby helping to maintain a person's\", metadata={}), Document(page_content=\"maintain a person's immune system and reducing the chances of transmitting the virus to others.\", metadata={}), Document(page_content='virus to others. Although ART does not cure HIV, it has been monumental in extending the life', metadata={}), Document(page_content='extending the life expectancy of people living with HIV.', metadata={}), Document(page_content='Furthermore, preventative measures have been at the forefront of controlling the spread of HIV.', metadata={}), Document(page_content='the spread of HIV. Programs promoting safer sex practices, needle exchange schemes, and', metadata={}), Document(page_content='schemes, and pre-exposure prophylaxis (PrEP) have been instrumental in reducing new infections.', metadata={}), Document(page_content='new infections. Awareness and education campaigns have also played a crucial role, dispelling myths', metadata={}), Document(page_content='dispelling myths and stigma surrounding the virus, and promoting understanding and compassion', metadata={}), Document(page_content='and compassion towards those affected by HIV.', metadata={})]\n"
     ]
    }
   ],
   "source": [
    "print(chunks)"
   ]
  },
  {
   "cell_type": "code",
   "execution_count": 16,
   "id": "d6128d17-55e9-41a0-ba18-7a1141049aaa",
   "metadata": {},
   "outputs": [
    {
     "name": "stdout",
     "output_type": "stream",
     "text": [
      "Total Tokens: 484\n",
      "Embedding Cost in USD: 0.000194\n"
     ]
    }
   ],
   "source": [
    "def print_embedding_cost(texts):\n",
    "    import tiktoken\n",
    "    enc = tiktoken.encoding_for_model('text-embedding-ada-002')\n",
    "    total_tokens = sum([len(enc.encode(page.page_content)) for page in texts])\n",
    "    print(f'Total Tokens: {total_tokens}')\n",
    "    print(f'Embedding Cost in USD: {total_tokens / 1000 * 0.0004:.6f}')\n",
    "    \n",
    "print_embedding_cost(chunks)"
   ]
  },
  {
   "cell_type": "code",
   "execution_count": null,
   "id": "8ae3b558-1235-44dc-b0df-b6e7e239bceb",
   "metadata": {},
   "outputs": [],
   "source": []
  }
 ],
 "metadata": {
  "kernelspec": {
   "display_name": "Python 3 (ipykernel)",
   "language": "python",
   "name": "python3"
  },
  "language_info": {
   "codemirror_mode": {
    "name": "ipython",
    "version": 3
   },
   "file_extension": ".py",
   "mimetype": "text/x-python",
   "name": "python",
   "nbconvert_exporter": "python",
   "pygments_lexer": "ipython3",
   "version": "3.9.6"
  }
 },
 "nbformat": 4,
 "nbformat_minor": 5
}
