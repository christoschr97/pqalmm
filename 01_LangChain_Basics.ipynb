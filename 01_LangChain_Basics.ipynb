{
 "cells": [
  {
   "cell_type": "code",
   "execution_count": 4,
   "id": "b99b9f67-af2a-4275-81bc-c0ac1517d99c",
   "metadata": {
    "scrolled": true
   },
   "outputs": [
    {
     "name": "stdout",
     "output_type": "stream",
     "text": [
      "Requirement already satisfied: openai in ./venv/lib/python3.9/site-packages (from -r ./requirements.txt (line 1)) (0.28.0)\n",
      "Requirement already satisfied: langchain in ./venv/lib/python3.9/site-packages (from -r ./requirements.txt (line 2)) (0.0.279)\n",
      "Requirement already satisfied: pinecone-client in ./venv/lib/python3.9/site-packages (from -r ./requirements.txt (line 3)) (2.2.2)\n",
      "Requirement already satisfied: python-dotenv in ./venv/lib/python3.9/site-packages (from -r ./requirements.txt (line 4)) (1.0.0)\n",
      "Requirement already satisfied: tiktoken in ./venv/lib/python3.9/site-packages (from -r ./requirements.txt (line 5)) (0.4.0)\n",
      "Requirement already satisfied: requests>=2.20 in ./venv/lib/python3.9/site-packages (from openai->-r ./requirements.txt (line 1)) (2.31.0)\n",
      "Requirement already satisfied: aiohttp in ./venv/lib/python3.9/site-packages (from openai->-r ./requirements.txt (line 1)) (3.8.5)\n",
      "Requirement already satisfied: tqdm in ./venv/lib/python3.9/site-packages (from openai->-r ./requirements.txt (line 1)) (4.66.1)\n",
      "Requirement already satisfied: PyYAML>=5.3 in ./venv/lib/python3.9/site-packages (from langchain->-r ./requirements.txt (line 2)) (6.0.1)\n",
      "Requirement already satisfied: async-timeout<5.0.0,>=4.0.0 in ./venv/lib/python3.9/site-packages (from langchain->-r ./requirements.txt (line 2)) (4.0.3)\n",
      "Requirement already satisfied: SQLAlchemy<3,>=1.4 in ./venv/lib/python3.9/site-packages (from langchain->-r ./requirements.txt (line 2)) (2.0.20)\n",
      "Requirement already satisfied: numpy<2,>=1 in ./venv/lib/python3.9/site-packages (from langchain->-r ./requirements.txt (line 2)) (1.25.2)\n",
      "Requirement already satisfied: dataclasses-json<0.6.0,>=0.5.7 in ./venv/lib/python3.9/site-packages (from langchain->-r ./requirements.txt (line 2)) (0.5.14)\n",
      "Requirement already satisfied: numexpr<3.0.0,>=2.8.4 in ./venv/lib/python3.9/site-packages (from langchain->-r ./requirements.txt (line 2)) (2.8.5)\n",
      "Requirement already satisfied: langsmith<0.1.0,>=0.0.21 in ./venv/lib/python3.9/site-packages (from langchain->-r ./requirements.txt (line 2)) (0.0.33)\n",
      "Requirement already satisfied: pydantic<3,>=1 in ./venv/lib/python3.9/site-packages (from langchain->-r ./requirements.txt (line 2)) (2.3.0)\n",
      "Requirement already satisfied: tenacity<9.0.0,>=8.1.0 in ./venv/lib/python3.9/site-packages (from langchain->-r ./requirements.txt (line 2)) (8.2.3)\n",
      "Requirement already satisfied: dnspython>=2.0.0 in ./venv/lib/python3.9/site-packages (from pinecone-client->-r ./requirements.txt (line 3)) (2.4.2)\n",
      "Requirement already satisfied: urllib3>=1.21.1 in ./venv/lib/python3.9/site-packages (from pinecone-client->-r ./requirements.txt (line 3)) (2.0.4)\n",
      "Requirement already satisfied: python-dateutil>=2.5.3 in ./venv/lib/python3.9/site-packages (from pinecone-client->-r ./requirements.txt (line 3)) (2.8.2)\n",
      "Requirement already satisfied: loguru>=0.5.0 in ./venv/lib/python3.9/site-packages (from pinecone-client->-r ./requirements.txt (line 3)) (0.7.0)\n",
      "Requirement already satisfied: typing-extensions>=3.7.4 in ./venv/lib/python3.9/site-packages (from pinecone-client->-r ./requirements.txt (line 3)) (4.7.1)\n",
      "Requirement already satisfied: regex>=2022.1.18 in ./venv/lib/python3.9/site-packages (from tiktoken->-r ./requirements.txt (line 5)) (2023.8.8)\n",
      "Requirement already satisfied: charset-normalizer<4.0,>=2.0 in ./venv/lib/python3.9/site-packages (from aiohttp->openai->-r ./requirements.txt (line 1)) (3.2.0)\n",
      "Requirement already satisfied: yarl<2.0,>=1.0 in ./venv/lib/python3.9/site-packages (from aiohttp->openai->-r ./requirements.txt (line 1)) (1.9.2)\n",
      "Requirement already satisfied: aiosignal>=1.1.2 in ./venv/lib/python3.9/site-packages (from aiohttp->openai->-r ./requirements.txt (line 1)) (1.3.1)\n",
      "Requirement already satisfied: attrs>=17.3.0 in ./venv/lib/python3.9/site-packages (from aiohttp->openai->-r ./requirements.txt (line 1)) (23.1.0)\n",
      "Requirement already satisfied: frozenlist>=1.1.1 in ./venv/lib/python3.9/site-packages (from aiohttp->openai->-r ./requirements.txt (line 1)) (1.4.0)\n",
      "Requirement already satisfied: multidict<7.0,>=4.5 in ./venv/lib/python3.9/site-packages (from aiohttp->openai->-r ./requirements.txt (line 1)) (6.0.4)\n",
      "Requirement already satisfied: marshmallow<4.0.0,>=3.18.0 in ./venv/lib/python3.9/site-packages (from dataclasses-json<0.6.0,>=0.5.7->langchain->-r ./requirements.txt (line 2)) (3.20.1)\n",
      "Requirement already satisfied: typing-inspect<1,>=0.4.0 in ./venv/lib/python3.9/site-packages (from dataclasses-json<0.6.0,>=0.5.7->langchain->-r ./requirements.txt (line 2)) (0.9.0)\n",
      "Requirement already satisfied: packaging>=17.0 in ./venv/lib/python3.9/site-packages (from marshmallow<4.0.0,>=3.18.0->dataclasses-json<0.6.0,>=0.5.7->langchain->-r ./requirements.txt (line 2)) (23.1)\n",
      "Requirement already satisfied: pydantic-core==2.6.3 in ./venv/lib/python3.9/site-packages (from pydantic<3,>=1->langchain->-r ./requirements.txt (line 2)) (2.6.3)\n",
      "Requirement already satisfied: annotated-types>=0.4.0 in ./venv/lib/python3.9/site-packages (from pydantic<3,>=1->langchain->-r ./requirements.txt (line 2)) (0.5.0)\n",
      "Requirement already satisfied: six>=1.5 in ./venv/lib/python3.9/site-packages (from python-dateutil>=2.5.3->pinecone-client->-r ./requirements.txt (line 3)) (1.16.0)\n",
      "Requirement already satisfied: idna<4,>=2.5 in ./venv/lib/python3.9/site-packages (from requests>=2.20->openai->-r ./requirements.txt (line 1)) (3.4)\n",
      "Requirement already satisfied: certifi>=2017.4.17 in ./venv/lib/python3.9/site-packages (from requests>=2.20->openai->-r ./requirements.txt (line 1)) (2023.7.22)\n",
      "Requirement already satisfied: mypy-extensions>=0.3.0 in ./venv/lib/python3.9/site-packages (from typing-inspect<1,>=0.4.0->dataclasses-json<0.6.0,>=0.5.7->langchain->-r ./requirements.txt (line 2)) (1.0.0)\n",
      "\u001b[33mWARNING: You are using pip version 21.2.4; however, version 23.2.1 is available.\n",
      "You should consider upgrading via the '/Users/christoschristodoulou/projects/langchain-gdpr/venv/bin/python3 -m pip install --upgrade pip' command.\u001b[0m\n"
     ]
    }
   ],
   "source": [
    "!pip install -r ./requirements.txt"
   ]
  },
  {
   "cell_type": "code",
   "execution_count": 2,
   "id": "b258d58e-4c6f-45d1-8f6e-6ba9e2f47da0",
   "metadata": {},
   "outputs": [
    {
     "name": "stdout",
     "output_type": "stream",
     "text": [
      "Name: langchain\n",
      "Version: 0.0.279\n",
      "Summary: Building applications with LLMs through composability\n",
      "Home-page: https://github.com/langchain-ai/langchain\n",
      "Author: \n",
      "Author-email: \n",
      "License: MIT\n",
      "Location: /Users/christoschristodoulou/projects/langchain-gdpr/venv/lib/python3.9/site-packages\n",
      "Requires: pydantic, requests, numpy, async-timeout, SQLAlchemy, aiohttp, numexpr, tenacity, langsmith, dataclasses-json, PyYAML\n",
      "Required-by: \n"
     ]
    }
   ],
   "source": [
    "!pip show langchain"
   ]
  },
  {
   "cell_type": "code",
   "execution_count": 6,
   "id": "b4177270-e149-4059-89fa-af503b5b6e7c",
   "metadata": {},
   "outputs": [
    {
     "data": {
      "text/plain": [
       "'gcp-starter'"
      ]
     },
     "execution_count": 6,
     "metadata": {},
     "output_type": "execute_result"
    }
   ],
   "source": [
    "import os\n",
    "from dotenv import load_dotenv, find_dotenv\n",
    "load_dotenv(find_dotenv(), override=True)\n",
    "\n",
    "os.environ.get('PINECONE_ENV')"
   ]
  },
  {
   "cell_type": "code",
   "execution_count": 7,
   "id": "bffd2ccb-6b47-4d3b-8959-e6053560e389",
   "metadata": {},
   "outputs": [
    {
     "name": "stderr",
     "output_type": "stream",
     "text": [
      "/Users/christoschristodoulou/projects/langchain-gdpr/venv/lib/python3.9/site-packages/urllib3/__init__.py:34: NotOpenSSLWarning: urllib3 v2.0 only supports OpenSSL 1.1.1+, currently the 'ssl' module is compiled with 'LibreSSL 2.8.3'. See: https://github.com/urllib3/urllib3/issues/3020\n",
      "  warnings.warn(\n"
     ]
    },
    {
     "name": "stdout",
     "output_type": "stream",
     "text": [
      "\u001b[1mOpenAI\u001b[0m\n",
      "Params: {'model_name': 'text-davinci-003', 'temperature': 0.7, 'max_tokens': 512, 'top_p': 1, 'frequency_penalty': 0, 'presence_penalty': 0, 'n': 1, 'request_timeout': None, 'logit_bias': {}}\n"
     ]
    }
   ],
   "source": [
    "from langchain.llms import OpenAI\n",
    "llm = OpenAI(model_name='text-davinci-003', temperature=0.7, max_tokens=512)\n",
    "print(llm)"
   ]
  },
  {
   "cell_type": "code",
   "execution_count": 8,
   "id": "157539a1-2dac-4824-b4ed-73d0e8d648ca",
   "metadata": {},
   "outputs": [],
   "source": [
    "output = llm('explain quantum mechanics in one sentence')"
   ]
  },
  {
   "cell_type": "code",
   "execution_count": 10,
   "id": "c9ee8426-df43-4f6f-805d-c375cd3059b4",
   "metadata": {},
   "outputs": [
    {
     "name": "stdout",
     "output_type": "stream",
     "text": [
      "\n",
      "\n",
      "Quantum mechanics is a branch of physics that describes the behavior of matter and energy on the atomic and subatomic level.\n"
     ]
    }
   ],
   "source": [
    "print(output)"
   ]
  },
  {
   "cell_type": "code",
   "execution_count": 11,
   "id": "07935f50-3949-4323-951c-bbf08c8cb058",
   "metadata": {},
   "outputs": [
    {
     "name": "stdout",
     "output_type": "stream",
     "text": [
      "7\n"
     ]
    }
   ],
   "source": [
    "print(llm.get_num_tokens('explain quantum mechanics in one sentence'))"
   ]
  },
  {
   "cell_type": "code",
   "execution_count": 14,
   "id": "cd593960-0e33-498d-a82b-247160ba7305",
   "metadata": {},
   "outputs": [],
   "source": [
    "output = llm.generate(['... is the capital of france.', 'What is the formula to find the area of a circle'])"
   ]
  },
  {
   "cell_type": "code",
   "execution_count": 16,
   "id": "59a5b897-8519-4bc4-8225-0f4aee40e2bb",
   "metadata": {},
   "outputs": [
    {
     "name": "stdout",
     "output_type": "stream",
     "text": [
      "?\n",
      "\n",
      "Area of a circle = π x (radius)2 \n",
      "or \n",
      "Area of a circle = π x (diameter/2)2\n"
     ]
    }
   ],
   "source": [
    "print(output.generations[1][0].text)"
   ]
  },
  {
   "cell_type": "code",
   "execution_count": null,
   "id": "9ad68cb9-e3f4-4fe2-9fe5-c4df7f262267",
   "metadata": {},
   "outputs": [],
   "source": []
  }
 ],
 "metadata": {
  "kernelspec": {
   "display_name": "Python 3 (ipykernel)",
   "language": "python",
   "name": "python3"
  },
  "language_info": {
   "codemirror_mode": {
    "name": "ipython",
    "version": 3
   },
   "file_extension": ".py",
   "mimetype": "text/x-python",
   "name": "python",
   "nbconvert_exporter": "python",
   "pygments_lexer": "ipython3",
   "version": "3.9.6"
  }
 },
 "nbformat": 4,
 "nbformat_minor": 5
}
